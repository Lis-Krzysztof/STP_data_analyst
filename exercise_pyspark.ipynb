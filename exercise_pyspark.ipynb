{
 "cells": [
  {
   "cell_type": "code",
   "execution_count": 1,
   "metadata": {
    "collapsed": true
   },
   "outputs": [],
   "source": [
    "from pyspark.sql.types import IntegerType\n",
    "from pyspark.sql.functions import col, when, max\n",
    "from pyspark.sql import SparkSession"
   ]
  },
  {
   "cell_type": "code",
   "execution_count": 2,
   "outputs": [
    {
     "name": "stderr",
     "output_type": "stream",
     "text": [
      "Setting default log level to \"WARN\".\n",
      "To adjust logging level use sc.setLogLevel(newLevel). For SparkR, use setLogLevel(newLevel).\n",
      "23/10/27 09:48:47 WARN NativeCodeLoader: Unable to load native-hadoop library for your platform... using builtin-java classes where applicable\n"
     ]
    }
   ],
   "source": [
    "spark = SparkSession.builder.appName('SparkByExamples.com').getOrCreate()\n",
    "\n",
    "inventory = spark.read.parquet(\"inventory.parquet\")"
   ],
   "metadata": {
    "collapsed": false
   }
  },
  {
   "cell_type": "code",
   "execution_count": 3,
   "outputs": [
    {
     "name": "stdout",
     "output_type": "stream",
     "text": [
      "+--------+------------+------------+-----+-------------+--------------------+--------+----------+\n",
      "| user_id|is_logged_in| device_type|event|is_mobile_app|                site|order_id|      date|\n",
      "+--------+------------+------------+-----+-------------+--------------------+--------+----------+\n",
      "|51217510|       false|Mobile Phone|click|        false|        dailynews.no|     976|2023-09-07|\n",
      "|51217510|       false|Mobile Phone| view|        false|play.google.com/s...|     976|2023-09-04|\n",
      "|51217510|       false|     Desktop| view|        false|apps.apple.com/no...|     877|2023-09-02|\n",
      "|51217510|       false|     Desktop| view|        false|play.google.com/s...|    1075|2023-09-02|\n",
      "|51217510|       false|Mobile Phone| view|        false|apps.apple.com/no...|     976|2023-09-05|\n",
      "+--------+------------+------------+-----+-------------+--------------------+--------+----------+\n",
      "only showing top 5 rows\n",
      "\n"
     ]
    }
   ],
   "source": [
    "inventory.show(5)"
   ],
   "metadata": {
    "collapsed": false
   }
  },
  {
   "cell_type": "raw",
   "source": [],
   "metadata": {
    "collapsed": false
   }
  },
  {
   "cell_type": "markdown",
   "source": [
    "Find what is the percentage of logged in users every day."
   ],
   "metadata": {
    "collapsed": false
   }
  },
  {
   "cell_type": "code",
   "execution_count": 4,
   "outputs": [
    {
     "name": "stdout",
     "output_type": "stream",
     "text": [
      "+----------+-------------------------+\n",
      "|      date|avg(is_logged_in_numeric)|\n",
      "+----------+-------------------------+\n",
      "|2023-09-01|      0.49901463963963966|\n",
      "|2023-09-02|      0.48885483421565895|\n",
      "|2023-09-03|       0.5006273525721455|\n",
      "|2023-09-04|       0.4890631448617416|\n",
      "|2023-09-05|                      0.0|\n",
      "|2023-09-06|       0.5014803327224023|\n",
      "|2023-09-07|       0.4879081841781664|\n",
      "+----------+-------------------------+\n",
      "\n"
     ]
    }
   ],
   "source": [
    "inventory = inventory.withColumn(\"is_logged_in_numeric\",\n",
    "                                 inventory.is_logged_in.cast(IntegerType()))\n",
    "logged_in_users_percentage_grouped_by_date = inventory.groupBy(\"date\").mean(\n",
    "    \"is_logged_in_numeric\").orderBy(\"date\")\n",
    "logged_in_users_percentage_grouped_by_date.show()"
   ],
   "metadata": {
    "collapsed": false
   }
  },
  {
   "cell_type": "markdown",
   "source": [
    "Which site has the most logged in users?"
   ],
   "metadata": {
    "collapsed": false
   }
  },
  {
   "cell_type": "code",
   "execution_count": 5,
   "outputs": [
    {
     "name": "stdout",
     "output_type": "stream",
     "text": [
      "+--------------------+-------------------------+\n",
      "|                site|sum(is_logged_in_numeric)|\n",
      "+--------------------+-------------------------+\n",
      "|play.google.com/s...|                     3648|\n",
      "+--------------------+-------------------------+\n",
      "only showing top 1 row\n",
      "\n"
     ]
    }
   ],
   "source": [
    "logged_in_users_grouped_by_site = inventory.groupBy(\"site\").sum(\"is_logged_in_numeric\")\n",
    "sorted_by_logged_in_users = logged_in_users_grouped_by_site.orderBy(\n",
    "    col(\"sum(is_logged_in_numeric)\").desc())\n",
    "sorted_by_logged_in_users.show(1)"
   ],
   "metadata": {
    "collapsed": false
   }
  },
  {
   "cell_type": "markdown",
   "source": [
    "Calculate the share of logged in users who are using Mobile App."
   ],
   "metadata": {
    "collapsed": false
   }
  },
  {
   "cell_type": "code",
   "execution_count": 6,
   "outputs": [
    {
     "name": "stdout",
     "output_type": "stream",
     "text": [
      "Share of logged in users who are using mobile app compared to all users: 4.73%\n",
      "Share of logged in users who are using mobile app compared to other logged in users: 10.36%\n"
     ]
    }
   ],
   "source": [
    "inventory_logged_in = inventory.filter(col(\"is_logged_in\") == 1)\n",
    "mobile_app_users = inventory_logged_in.filter(col(\"is_mobile_app\") == 1).count()\n",
    "\n",
    "share_of_mobile_app_users_all = (mobile_app_users / inventory.count()) * 100\n",
    "print(\n",
    "    f'Share of logged in users who are using mobile app compared to all users: {share_of_mobile_app_users_all:.2f}%')\n",
    "\n",
    "share_of_mobile_app_users_logged_in = (\n",
    "                                              mobile_app_users / inventory_logged_in.count()) * 100\n",
    "print(\n",
    "    f'Share of logged in users who are using mobile app compared to other logged in users: {share_of_mobile_app_users_logged_in:.2f}%')"
   ],
   "metadata": {
    "collapsed": false
   }
  },
  {
   "cell_type": "markdown",
   "source": [
    "Create a new column called identity_type which will take the following value:\n",
    "○ If device_type is “Mobile Phone” and is_mobile_app is set to True then “Mobile Phone App”\n",
    "○ If device_type is “Mobile Phone” and is_mobile_app is set to False then “Mobile Phone Web”\n",
    "○ If device_type is “Desktop” then “Desktop”\n",
    "○ Otherwise “Unknown”"
   ],
   "metadata": {
    "collapsed": false
   }
  },
  {
   "cell_type": "code",
   "execution_count": 7,
   "outputs": [
    {
     "name": "stdout",
     "output_type": "stream",
     "text": [
      "+--------+------------+------------+-----+-------------+--------------------+--------+----------+--------------------+----------------+\n",
      "| user_id|is_logged_in| device_type|event|is_mobile_app|                site|order_id|      date|is_logged_in_numeric|   identity_type|\n",
      "+--------+------------+------------+-----+-------------+--------------------+--------+----------+--------------------+----------------+\n",
      "|51217510|       false|Mobile Phone|click|        false|        dailynews.no|     976|2023-09-07|                   0|Mobile Phone Web|\n",
      "|51217510|       false|Mobile Phone| view|        false|play.google.com/s...|     976|2023-09-04|                   0|Mobile Phone Web|\n",
      "|51217510|       false|     Desktop| view|        false|apps.apple.com/no...|     877|2023-09-02|                   0|         Desktop|\n",
      "|51217510|       false|     Desktop| view|        false|play.google.com/s...|    1075|2023-09-02|                   0|         Desktop|\n",
      "|51217510|       false|Mobile Phone| view|        false|apps.apple.com/no...|     976|2023-09-05|                   0|Mobile Phone Web|\n",
      "|51217510|       false|Mobile Phone|click|         true|apps.apple.com/no...|     995|2023-09-02|                   0|Mobile Phone App|\n",
      "|51217510|       false|     Desktop|click|        false|play.google.com/s...|     368|2023-09-03|                   0|         Desktop|\n",
      "|51217510|       false|Mobile Phone|click|        false|apps.apple.com/no...|     976|2023-09-01|                   0|Mobile Phone Web|\n",
      "|51217510|       false|     Desktop|click|        false|        dailynews.no|    7998|2023-09-01|                   0|         Desktop|\n",
      "|51217510|       false|     Desktop| view|        false|        dailynews.no|    8530|2023-09-07|                   0|         Desktop|\n",
      "|51217510|       false|Mobile Phone|click|         true|        dailynews.no|     995|2023-09-05|                   0|Mobile Phone App|\n",
      "|51217510|       false|Mobile Phone| view|        false|        sportinfo.no|     976|2023-09-04|                   0|Mobile Phone Web|\n",
      "|45810793|       false|     Desktop|click|        false|apps.apple.com/no...|    2716|2023-09-01|                   0|         Desktop|\n",
      "|45810793|       false|Mobile Phone|click|        false|play.google.com/s...|     976|2023-09-03|                   0|Mobile Phone Web|\n",
      "|45810793|       false|     Desktop|click|        false|apps.apple.com/no...|    8827|2023-09-07|                   0|         Desktop|\n",
      "|39126125|        true|Mobile Phone| view|        false|play.google.com/s...|     976|2023-09-04|                   1|Mobile Phone Web|\n",
      "|39126125|        true|     Desktop| view|        false|        sportinfo.no|    4536|2023-09-03|                   1|         Desktop|\n",
      "|39126125|        true|Mobile Phone| view|        false|apps.apple.com/no...|     976|2023-09-06|                   1|Mobile Phone Web|\n",
      "|39126125|        true|Mobile Phone| view|        false|play.google.com/s...|     334|2023-09-03|                   1|Mobile Phone Web|\n",
      "|39126125|        true|     Desktop|click|        false|apps.apple.com/no...|    1610|2023-09-01|                   1|         Desktop|\n",
      "+--------+------------+------------+-----+-------------+--------------------+--------+----------+--------------------+----------------+\n",
      "only showing top 20 rows\n",
      "\n"
     ]
    }
   ],
   "source": [
    "inventory = inventory.withColumn(\n",
    "    \"identity_type\",\n",
    "    when((col(\"device_type\") == \"Mobile Phone\") & (col(\"is_mobile_app\") == True),\n",
    "         \"Mobile Phone App\")\n",
    "    .when((col(\"device_type\") == \"Mobile Phone\") & (col(\"is_mobile_app\") == False),\n",
    "          \"Mobile Phone Web\")\n",
    "    .when(col(\"device_type\") == \"Desktop\", \"Desktop\")\n",
    "    .otherwise(\"Unknown\")\n",
    ")\n",
    "inventory.show()"
   ],
   "metadata": {
    "collapsed": false
   }
  },
  {
   "cell_type": "markdown",
   "source": [
    "Create a new column in the dataset called max_order_id which will show the\n",
    "maximum order_id for each identity_type. The DataFrame must persist the original\n",
    "number of records."
   ],
   "metadata": {
    "collapsed": false
   }
  },
  {
   "cell_type": "code",
   "execution_count": 8,
   "outputs": [
    {
     "name": "stdout",
     "output_type": "stream",
     "text": [
      "+----------------+--------+------------+------------+-----+-------------+--------------------+--------+----------+--------------------+------------+\n",
      "|   identity_type| user_id|is_logged_in| device_type|event|is_mobile_app|                site|order_id|      date|is_logged_in_numeric|max_order_id|\n",
      "+----------------+--------+------------+------------+-----+-------------+--------------------+--------+----------+--------------------+------------+\n",
      "|Mobile Phone Web|51217510|       false|Mobile Phone|click|        false|        dailynews.no|     976|2023-09-07|                   0|         976|\n",
      "|Mobile Phone Web|51217510|       false|Mobile Phone| view|        false|play.google.com/s...|     976|2023-09-04|                   0|         976|\n",
      "|         Desktop|51217510|       false|     Desktop| view|        false|apps.apple.com/no...|     877|2023-09-02|                   0|       10000|\n",
      "|         Desktop|51217510|       false|     Desktop| view|        false|play.google.com/s...|    1075|2023-09-02|                   0|       10000|\n",
      "|Mobile Phone Web|51217510|       false|Mobile Phone| view|        false|apps.apple.com/no...|     976|2023-09-05|                   0|         976|\n",
      "|Mobile Phone App|51217510|       false|Mobile Phone|click|         true|apps.apple.com/no...|     995|2023-09-02|                   0|         995|\n",
      "|         Desktop|51217510|       false|     Desktop|click|        false|play.google.com/s...|     368|2023-09-03|                   0|       10000|\n",
      "|Mobile Phone Web|51217510|       false|Mobile Phone|click|        false|apps.apple.com/no...|     976|2023-09-01|                   0|         976|\n",
      "|         Desktop|51217510|       false|     Desktop|click|        false|        dailynews.no|    7998|2023-09-01|                   0|       10000|\n",
      "|         Desktop|51217510|       false|     Desktop| view|        false|        dailynews.no|    8530|2023-09-07|                   0|       10000|\n",
      "|Mobile Phone App|51217510|       false|Mobile Phone|click|         true|        dailynews.no|     995|2023-09-05|                   0|         995|\n",
      "|Mobile Phone Web|51217510|       false|Mobile Phone| view|        false|        sportinfo.no|     976|2023-09-04|                   0|         976|\n",
      "|         Desktop|45810793|       false|     Desktop|click|        false|apps.apple.com/no...|    2716|2023-09-01|                   0|       10000|\n",
      "|Mobile Phone Web|45810793|       false|Mobile Phone|click|        false|play.google.com/s...|     976|2023-09-03|                   0|         976|\n",
      "|         Desktop|45810793|       false|     Desktop|click|        false|apps.apple.com/no...|    8827|2023-09-07|                   0|       10000|\n",
      "|Mobile Phone Web|39126125|        true|Mobile Phone| view|        false|play.google.com/s...|     976|2023-09-04|                   1|         976|\n",
      "|         Desktop|39126125|        true|     Desktop| view|        false|        sportinfo.no|    4536|2023-09-03|                   1|       10000|\n",
      "|Mobile Phone Web|39126125|        true|Mobile Phone| view|        false|apps.apple.com/no...|     976|2023-09-06|                   1|         976|\n",
      "|Mobile Phone Web|39126125|        true|Mobile Phone| view|        false|play.google.com/s...|     334|2023-09-03|                   1|         976|\n",
      "|         Desktop|39126125|        true|     Desktop|click|        false|apps.apple.com/no...|    1610|2023-09-01|                   1|       10000|\n",
      "+----------------+--------+------------+------------+-----+-------------+--------------------+--------+----------+--------------------+------------+\n",
      "only showing top 20 rows\n",
      "\n"
     ]
    }
   ],
   "source": [
    "inventory_max_order_id = inventory.groupBy(\"identity_type\").agg(\n",
    "    max(col(\"order_id\")).alias(\"max_order_id\"))\n",
    "\n",
    "# Join the result DataFrame back to the original DataFrame to add the max_order_id column\n",
    "inventory = inventory.join(inventory_max_order_id, on=\"identity_type\", how=\"left\")\n",
    "\n",
    "# Show the DataFrame with the new column\n",
    "inventory.show()"
   ],
   "metadata": {
    "collapsed": false
   }
  },
  {
   "cell_type": "markdown",
   "source": [
    "You have been notified by the Marketing team that they would like to know what was\n",
    "the number of clicks (event column equals to “click”) each day for a given campaign. They sent you the list of users taking part in this campaign (selected_users.parquet). Your goal is to filter the dataset to include only selected users and calculate the total number of clicks per day."
   ],
   "metadata": {
    "collapsed": false
   }
  },
  {
   "cell_type": "code",
   "execution_count": 9,
   "outputs": [
    {
     "name": "stdout",
     "output_type": "stream",
     "text": [
      "+--------+\n",
      "| user_id|\n",
      "+--------+\n",
      "|93330430|\n",
      "|30514363|\n",
      "|43260855|\n",
      "|72293645|\n",
      "|60562662|\n",
      "|82779235|\n",
      "|25861362|\n",
      "|28056430|\n",
      "|61316195|\n",
      "|30120729|\n",
      "|91790087|\n",
      "|98278464|\n",
      "|44932320|\n",
      "|86908090|\n",
      "|44735657|\n",
      "|97066027|\n",
      "|97196946|\n",
      "|88742844|\n",
      "|37133593|\n",
      "|89365279|\n",
      "+--------+\n",
      "only showing top 20 rows\n",
      "\n"
     ]
    }
   ],
   "source": [
    "selected_users = spark.read.parquet(\"selected_users.parquet\")\n",
    "selected_users.show()"
   ],
   "metadata": {
    "collapsed": false
   }
  },
  {
   "cell_type": "code",
   "execution_count": 10,
   "outputs": [
    {
     "name": "stdout",
     "output_type": "stream",
     "text": [
      "+----------------+--------+------------+------------+-----+-------------+--------------------+--------+----------+--------------------+------------+--------+\n",
      "|   identity_type| user_id|is_logged_in| device_type|event|is_mobile_app|                site|order_id|      date|is_logged_in_numeric|max_order_id| user_id|\n",
      "+----------------+--------+------------+------------+-----+-------------+--------------------+--------+----------+--------------------+------------+--------+\n",
      "|         Desktop|35849347|        true|     Desktop|click|        false|play.google.com/s...|    9414|2023-09-03|                   1|       10000|35849347|\n",
      "|Mobile Phone Web|35849347|        true|Mobile Phone| view|        false|apps.apple.com/no...|     976|2023-09-04|                   1|         976|35849347|\n",
      "|Mobile Phone Web|35849347|        true|Mobile Phone|click|        false|play.google.com/s...|     976|2023-09-02|                   1|         976|35849347|\n",
      "|Mobile Phone Web|35849347|        true|Mobile Phone|click|        false|play.google.com/s...|     976|2023-09-04|                   1|         976|35849347|\n",
      "|Mobile Phone Web|35849347|        true|Mobile Phone|click|        false|        dailynews.no|     976|2023-09-06|                   1|         976|35849347|\n",
      "|         Desktop|35849347|        true|     Desktop|click|        false|        dailynews.no|    4205|2023-09-02|                   1|       10000|35849347|\n",
      "|         Desktop|35849347|        true|     Desktop| view|        false|apps.apple.com/no...|    8136|2023-09-07|                   1|       10000|35849347|\n",
      "|         Desktop|35849347|        true|     Desktop| view|        false|apps.apple.com/no...|    5006|2023-09-06|                   1|       10000|35849347|\n",
      "|Mobile Phone Web|35849347|        true|Mobile Phone| view|        false|play.google.com/s...|     976|2023-09-07|                   1|         976|35849347|\n",
      "|         Desktop|35849347|        true|     Desktop| view|        false|play.google.com/s...|    6749|2023-09-07|                   1|       10000|35849347|\n",
      "|Mobile Phone Web|35849347|        true|Mobile Phone|click|        false|play.google.com/s...|     976|2023-09-01|                   1|         976|35849347|\n",
      "|Mobile Phone Web|47219877|        true|Mobile Phone| view|        false|play.google.com/s...|     976|2023-09-01|                   1|         976|47219877|\n",
      "|         Desktop|47219877|        true|     Desktop|click|        false|apps.apple.com/no...|    6107|2023-09-06|                   1|       10000|47219877|\n",
      "|Mobile Phone Web|47219877|        true|Mobile Phone| view|        false|        dailynews.no|     976|2023-09-01|                   1|         976|47219877|\n",
      "|Mobile Phone App|47219877|        true|Mobile Phone|click|         true|        sportinfo.no|     995|2023-09-07|                   1|         995|47219877|\n",
      "|Mobile Phone App|47219877|        true|Mobile Phone| view|         true|apps.apple.com/no...|     995|2023-09-07|                   1|         995|47219877|\n",
      "|Mobile Phone Web|47219877|        true|Mobile Phone| view|        false|apps.apple.com/no...|     976|2023-09-07|                   1|         976|47219877|\n",
      "|         Desktop|47219877|        true|     Desktop| view|        false|play.google.com/s...|    5526|2023-09-01|                   1|       10000|47219877|\n",
      "|Mobile Phone Web|47219877|        true|Mobile Phone| view|        false|play.google.com/s...|     976|2023-09-02|                   1|         976|47219877|\n",
      "|         Desktop|47219877|        true|     Desktop| view|        false|        sportinfo.no|    2406|2023-09-04|                   1|       10000|47219877|\n",
      "+----------------+--------+------------+------------+-----+-------------+--------------------+--------+----------+--------------------+------------+--------+\n",
      "only showing top 20 rows\n",
      "\n"
     ]
    }
   ],
   "source": [
    "inventory_with_selected_users = inventory.join(\n",
    "    selected_users,\n",
    "    inventory.user_id == selected_users.user_id,\n",
    "    \"inner\"\n",
    ")\n",
    "inventory_with_selected_users.show()"
   ],
   "metadata": {
    "collapsed": false
   }
  },
  {
   "cell_type": "code",
   "execution_count": 11,
   "outputs": [
    {
     "name": "stdout",
     "output_type": "stream",
     "text": [
      "+----------+-----+\n",
      "|      date|count|\n",
      "+----------+-----+\n",
      "|2023-09-03| 1082|\n",
      "|2023-09-01| 1142|\n",
      "|2023-09-05|  604|\n",
      "|2023-09-07| 1134|\n",
      "|2023-09-02| 1171|\n",
      "|2023-09-04| 1101|\n",
      "|2023-09-06| 1085|\n",
      "+----------+-----+\n",
      "\n"
     ]
    }
   ],
   "source": [
    "inventory_with_selected_users_clicks_number_grouped_by_date = inventory_with_selected_users.filter(\n",
    "    inventory_with_selected_users.event == \"click\").groupBy(\"date\").count()\n",
    "inventory_with_selected_users_clicks_number_grouped_by_date.show()"
   ],
   "metadata": {
    "collapsed": false
   }
  },
  {
   "cell_type": "markdown",
   "source": [
    "What was the number of clicks per day for users who weren’t in this campaign?"
   ],
   "metadata": {
    "collapsed": false
   }
  },
  {
   "cell_type": "code",
   "execution_count": 12,
   "outputs": [
    {
     "name": "stdout",
     "output_type": "stream",
     "text": [
      "+----------+-----+\n",
      "|      date|count|\n",
      "+----------+-----+\n",
      "|2023-09-03| 2499|\n",
      "|2023-09-01| 2419|\n",
      "|2023-09-05| 1206|\n",
      "|2023-09-07| 2528|\n",
      "|2023-09-02| 2434|\n",
      "|2023-09-04| 2522|\n",
      "|2023-09-06| 2425|\n",
      "+----------+-----+\n",
      "\n"
     ]
    }
   ],
   "source": [
    "inventory_without_selected_users = inventory.join(\n",
    "    selected_users,\n",
    "    inventory.user_id == selected_users.user_id,\n",
    "    \"left_anti\"\n",
    ")\n",
    "inventory_without_selected_users_clicks_number_grouped_by_date = inventory_without_selected_users.filter(\n",
    "    inventory_without_selected_users.event == \"click\").groupBy(\"date\").count()\n",
    "inventory_without_selected_users_clicks_number_grouped_by_date.show()\n"
   ],
   "metadata": {
    "collapsed": false
   }
  }
 ],
 "metadata": {
  "kernelspec": {
   "display_name": "Python 3",
   "language": "python",
   "name": "python3"
  },
  "language_info": {
   "codemirror_mode": {
    "name": "ipython",
    "version": 2
   },
   "file_extension": ".py",
   "mimetype": "text/x-python",
   "name": "python",
   "nbconvert_exporter": "python",
   "pygments_lexer": "ipython2",
   "version": "2.7.6"
  }
 },
 "nbformat": 4,
 "nbformat_minor": 0
}
